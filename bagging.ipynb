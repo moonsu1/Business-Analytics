{
 "cells": [
  {
   "cell_type": "code",
   "execution_count": 1,
   "metadata": {},
   "outputs": [
    {
     "name": "stderr",
     "output_type": "stream",
     "text": [
      "C:\\ProgramData\\Anaconda3\\lib\\site-packages\\sklearn\\ensemble\\weight_boosting.py:29: DeprecationWarning: numpy.core.umath_tests is an internal NumPy module and should not be imported. It will be removed in a future NumPy release.\n",
      "  from numpy.core.umath_tests import inner1d\n"
     ]
    },
    {
     "name": "stdout",
     "output_type": "stream",
     "text": [
      "(44527, 7)\n",
      "(44527, 1)\n",
      "   pago  longitude2  latitude2   pa_di   mean_air_p   mean_temp  max\n",
      "0   2.1         265        -28  215.85  102320.6567  293.405544  1.0\n",
      "1   2.1         265        -28  215.85  102320.6567  293.405544  1.0\n"
     ]
    }
   ],
   "source": [
    "import pandas as pd\n",
    "import numpy as np\n",
    "from sklearn import model_selection\n",
    "from sklearn import metrics\n",
    "import matplotlib.pyplot as plt\n",
    "#\n",
    "from sklearn.ensemble import BaggingRegressor\n",
    "\n",
    "x_data = pd.read_csv('C:/Users/moons/Desktop/bagging_x.csv')\n",
    "y_data = pd.read_csv('C:/Users/moons/Desktop/bagging_y.csv')\n",
    "print(x_data.shape) #(40, 1)\n",
    "print(y_data.shape) #(40,)\n",
    "print(x_data[:2])"
   ]
  },
  {
   "cell_type": "code",
   "execution_count": 2,
   "metadata": {
    "scrolled": true
   },
   "outputs": [
    {
     "name": "stdout",
     "output_type": "stream",
     "text": [
      "   pagojugi\n",
      "0        11\n",
      "1        12\n"
     ]
    }
   ],
   "source": [
    "\n",
    "print(y_data[:2]) #[-0.82075445  0.86401998]\n",
    "\n",
    "x_train, x_test, y_train, y_test = model_selection.train_test_split(x_data, y_data, test_size=0.33)"
   ]
  },
  {
   "cell_type": "code",
   "execution_count": 3,
   "metadata": {},
   "outputs": [],
   "source": [
    "#estimator = BaggingRegressor()\n",
    "estimator = BaggingRegressor(base_estimator=None, n_estimators=10,\n",
    "                             max_samples=1.0, max_features=1.0, bootstrap=True, bootstrap_features=False, \n",
    "                             oob_score=False, warm_start=False, n_jobs=1, random_state=None, verbose=0)\n",
    "\n",
    "\n"
   ]
  },
  {
   "cell_type": "code",
   "execution_count": 4,
   "metadata": {},
   "outputs": [
    {
     "name": "stderr",
     "output_type": "stream",
     "text": [
      "C:\\ProgramData\\Anaconda3\\lib\\site-packages\\sklearn\\utils\\validation.py:578: DataConversionWarning: A column-vector y was passed when a 1d array was expected. Please change the shape of y to (n_samples, ), for example using ravel().\n",
      "  y = column_or_1d(y, warn=True)\n"
     ]
    },
    {
     "data": {
      "text/plain": [
       "BaggingRegressor(base_estimator=None, bootstrap=True,\n",
       "         bootstrap_features=False, max_features=1.0, max_samples=1.0,\n",
       "         n_estimators=10, n_jobs=1, oob_score=False, random_state=None,\n",
       "         verbose=0, warm_start=False)"
      ]
     },
     "execution_count": 4,
     "metadata": {},
     "output_type": "execute_result"
    }
   ],
   "source": [
    "estimator.fit(x_train, y_train)"
   ]
  },
  {
   "cell_type": "code",
   "execution_count": 5,
   "metadata": {},
   "outputs": [
    {
     "name": "stdout",
     "output_type": "stream",
     "text": [
      "0.22430936833102832\n",
      "       pago  longitude2  latitude2  pa_di    mean_air_p   mean_temp   max\n",
      "4585  2.950         305         19   91.5  101697.24280  301.083312  11.6\n",
      "9907  4.225         270        -56  261.7   99647.89556  277.894431  14.6\n",
      "[12.5474359 10.34     ]\n",
      "pagojugi 12.547435897435896\n"
     ]
    }
   ],
   "source": [
    "y_predict = estimator.predict(x_test)\n",
    "score = metrics.r2_score(y_test, y_predict)\n",
    "print(score)\n",
    "\n",
    "####################\n",
    "\n",
    "print(x_test[:2])\n",
    "\n",
    "y_predict = estimator.predict(x_test[:2])\n",
    "print(y_predict) #[-0.62043504  0.42784774]\n",
    "for y1, y2 in zip(y_test, y_predict):\n",
    "    print(y1, y2)    "
   ]
  },
  {
   "cell_type": "code",
   "execution_count": 6,
   "metadata": {},
   "outputs": [
    {
     "name": "stdout",
     "output_type": "stream",
     "text": [
      "0.22430936833102832\n"
     ]
    }
   ],
   "source": [
    "print(score)"
   ]
  },
  {
   "cell_type": "code",
   "execution_count": 9,
   "metadata": {
    "scrolled": true
   },
   "outputs": [
    {
     "name": "stdout",
     "output_type": "stream",
     "text": [
      "(44527, 7)\n",
      "(44527, 1)\n",
      "   pago  longitude2  latitude2   pa_di   mean_air_p   mean_temp  max\n",
      "0   2.1         265        -28  215.85  102320.6567  293.405544  1.0\n",
      "1   2.1         265        -28  215.85  102320.6567  293.405544  1.0\n",
      "   pagojugi\n",
      "0        11\n",
      "1        12\n"
     ]
    },
    {
     "name": "stderr",
     "output_type": "stream",
     "text": [
      "C:\\ProgramData\\Anaconda3\\lib\\site-packages\\sklearn\\utils\\validation.py:578: DataConversionWarning: A column-vector y was passed when a 1d array was expected. Please change the shape of y to (n_samples, ), for example using ravel().\n",
      "  y = column_or_1d(y, warn=True)\n"
     ]
    },
    {
     "name": "stdout",
     "output_type": "stream",
     "text": [
      "0.004899959167006942\n",
      "       pago  longitude2  latitude2    pa_di   mean_air_p   mean_temp   max\n",
      "4190   2.45          35        -48  280.775  101969.1711  277.205537  11.5\n",
      "16683  1.75          80         -4  131.275  101013.3761  301.216649   3.7\n",
      "[ 9 12]\n",
      "pagojugi 9 False\n"
     ]
    }
   ],
   "source": [
    "import pandas as pd\n",
    "import numpy as np\n",
    "from sklearn import model_selection\n",
    "from sklearn import metrics\n",
    "import matplotlib.pyplot as plt\n",
    "#\n",
    "from sklearn.ensemble import BaggingClassifier \n",
    "\n",
    "x_data = pd.read_csv('C:/Users/moons/Desktop/bagging_x.csv')\n",
    "y_data = pd.read_csv('C:/Users/moons/Desktop/bagging_y.csv')\n",
    "print(x_data.shape) #(40, 1)\n",
    "print(y_data.shape) #(40,)\n",
    "print(x_data[:2])\n",
    "'''\n",
    "[[2.45265086]\n",
    "[2.09839213]]\n",
    "'''\n",
    "print(y_data[:2]) #[-0.82075445  0.86401998]\n",
    "\n",
    "x_train, x_test, y_train, y_test = model_selection.train_test_split(x_data, y_data, test_size=0.33)\n",
    "\n",
    "#estimator = BaggingClassifier()\n",
    "estimator = BaggingClassifier(base_estimator=None, n_estimators=10, max_samples=1.0, max_features=1.0, bootstrap=True, bootstrap_features=False, oob_score=False, warm_start=False, n_jobs=1, random_state=None, verbose=0)\n",
    "\n",
    "estimator.fit(x_train, y_train)\n",
    "\n",
    "y_predict = estimator.predict(x_test)\n",
    "score = metrics.accuracy_score(y_test, y_predict)\n",
    "print(score)\n",
    "\n",
    "####################\n",
    "\n",
    "print(x_test[:2])\n",
    "'''\n",
    "[[ 1.08412616]\n",
    " [-0.50335834]]\n",
    "'''\n",
    "y_predict = estimator.predict(x_test[:2])\n",
    "print(y_predict) #[-0.62043504  0.42784774]\n",
    "for y1, y2 in zip(y_test, y_predict):\n",
    "    print(y1, y2, y1==y2)    "
   ]
  },
  {
   "cell_type": "code",
   "execution_count": 11,
   "metadata": {},
   "outputs": [],
   "source": [
    "from sklearn.model_selection import cross_val_score\n",
    "from sklearn.ensemble import BaggingClassifier, ExtraTreesClassifier, RandomForestClassifier\n",
    "from sklearn.neighbors import KNeighborsClassifier\n",
    "from sklearn.linear_model import RidgeClassifier\n",
    "from sklearn.svm import SVC\n",
    "seed = 1075\n",
    "np.random.seed(seed)\n",
    "# Create classifiers\n",
    "rf = RandomForestClassifier()\n",
    "et = ExtraTreesClassifier()\n",
    "knn = KNeighborsClassifier()\n",
    "svc = SVC()\n",
    "rg = RidgeClassifier()\n",
    "clf_array = [rf, et, knn, svc, rg]\n"
   ]
  },
  {
   "cell_type": "code",
   "execution_count": 14,
   "metadata": {
    "scrolled": false
   },
   "outputs": [
    {
     "name": "stderr",
     "output_type": "stream",
     "text": [
      "C:\\ProgramData\\Anaconda3\\lib\\site-packages\\sklearn\\model_selection\\_split.py:605: Warning: The least populated class in y has only 3 members, which is too few. The minimum number of members in any class cannot be less than n_splits=10.\n",
      "  % (min_groups, self.n_splits)), Warning)\n"
     ]
    },
    {
     "name": "stdout",
     "output_type": "stream",
     "text": [
      "-11.356056295101428 0.15860318339593574\n"
     ]
    }
   ],
   "source": [
    "vanilla_scores = cross_val_score(rf, x_train, y_train, cv=10, n_jobs=-1, scoring='mean_squared_error')\n",
    "    \n",
    "print(vanilla_scores.mean(), vanilla_scores.std())\n",
    "#random forest normal score"
   ]
  },
  {
   "cell_type": "code",
   "execution_count": 16,
   "metadata": {},
   "outputs": [
    {
     "name": "stderr",
     "output_type": "stream",
     "text": [
      "C:\\ProgramData\\Anaconda3\\lib\\site-packages\\sklearn\\model_selection\\_split.py:605: Warning: The least populated class in y has only 3 members, which is too few. The minimum number of members in any class cannot be less than n_splits=10.\n",
      "  % (min_groups, self.n_splits)), Warning)\n"
     ]
    },
    {
     "name": "stdout",
     "output_type": "stream",
     "text": [
      "-10.95753418815018 0.27263338358482525\n"
     ]
    }
   ],
   "source": [
    "bagging_clf = BaggingClassifier(rf, max_samples=0.4,  random_state=seed)\n",
    "\n",
    "bagging_scores = cross_val_score(bagging_clf, x_train, y_train, cv=10, n_jobs=-1,scoring='mean_squared_error')\n",
    "\n",
    "print(bagging_scores.mean(), bagging_scores.std())\n",
    "#random forest bagging score"
   ]
  },
  {
   "cell_type": "code",
   "execution_count": 18,
   "metadata": {},
   "outputs": [
    {
     "name": "stderr",
     "output_type": "stream",
     "text": [
      "C:\\ProgramData\\Anaconda3\\lib\\site-packages\\sklearn\\model_selection\\_split.py:605: Warning: The least populated class in y has only 3 members, which is too few. The minimum number of members in any class cannot be less than n_splits=10.\n",
      "  % (min_groups, self.n_splits)), Warning)\n"
     ]
    },
    {
     "name": "stdout",
     "output_type": "stream",
     "text": [
      "-14.001024468821345 0.2433939638687799\n"
     ]
    },
    {
     "name": "stderr",
     "output_type": "stream",
     "text": [
      "C:\\ProgramData\\Anaconda3\\lib\\site-packages\\sklearn\\model_selection\\_split.py:605: Warning: The least populated class in y has only 1 members, which is too few. The minimum number of members in any class cannot be less than n_splits=10.\n",
      "  % (min_groups, self.n_splits)), Warning)\n"
     ]
    },
    {
     "name": "stdout",
     "output_type": "stream",
     "text": [
      "-10.684681670568196 0.4786410820391922\n"
     ]
    }
   ],
   "source": [
    "vanilla_scores = cross_val_score(et, x_train, y_train, cv=10, n_jobs=-1,scoring='mean_squared_error')\n",
    "    \n",
    "print(vanilla_scores.mean(), vanilla_scores.std())\n",
    "\n",
    "bagging_clf = BaggingClassifier(et, max_samples=0.4,  random_state=seed)\n",
    "\n",
    "bagging_scores = cross_val_score(bagging_clf, x_test, y_test, cv=10, n_jobs=-1,scoring='mean_squared_error')\n",
    "\n",
    "print(bagging_scores.mean(), bagging_scores.std())\n",
    "#extra classfier normal and bagging score"
   ]
  },
  {
   "cell_type": "code",
   "execution_count": 19,
   "metadata": {},
   "outputs": [
    {
     "name": "stderr",
     "output_type": "stream",
     "text": [
      "C:\\ProgramData\\Anaconda3\\lib\\site-packages\\sklearn\\model_selection\\_split.py:605: Warning: The least populated class in y has only 3 members, which is too few. The minimum number of members in any class cannot be less than n_splits=10.\n",
      "  % (min_groups, self.n_splits)), Warning)\n"
     ]
    },
    {
     "name": "stdout",
     "output_type": "stream",
     "text": [
      "-13.825131277178926 0.30126421071498444\n"
     ]
    },
    {
     "name": "stderr",
     "output_type": "stream",
     "text": [
      "C:\\ProgramData\\Anaconda3\\lib\\site-packages\\sklearn\\model_selection\\_split.py:605: Warning: The least populated class in y has only 1 members, which is too few. The minimum number of members in any class cannot be less than n_splits=10.\n",
      "  % (min_groups, self.n_splits)), Warning)\n"
     ]
    },
    {
     "name": "stdout",
     "output_type": "stream",
     "text": [
      "-10.552106051889023 0.2216590399776733\n"
     ]
    }
   ],
   "source": [
    "vanilla_scores = cross_val_score(knn, x_train, y_train, cv=10, n_jobs=-1,scoring='mean_squared_error')\n",
    "    \n",
    "print(vanilla_scores.mean(), vanilla_scores.std())\n",
    "\n",
    "bagging_clf = BaggingClassifier(knn, max_samples=0.4,  random_state=seed)\n",
    "\n",
    "bagging_scores = cross_val_score(bagging_clf, x_test, y_test, cv=10, n_jobs=-1,scoring='mean_squared_error')\n",
    "\n",
    "print(bagging_scores.mean(), bagging_scores.std())\n",
    "#knn normal and bagging score"
   ]
  },
  {
   "cell_type": "code",
   "execution_count": 20,
   "metadata": {},
   "outputs": [
    {
     "name": "stderr",
     "output_type": "stream",
     "text": [
      "C:\\ProgramData\\Anaconda3\\lib\\site-packages\\sklearn\\model_selection\\_split.py:605: Warning: The least populated class in y has only 3 members, which is too few. The minimum number of members in any class cannot be less than n_splits=10.\n",
      "  % (min_groups, self.n_splits)), Warning)\n"
     ]
    },
    {
     "name": "stdout",
     "output_type": "stream",
     "text": [
      "-8.229872767289605 0.09678556088893671\n"
     ]
    },
    {
     "name": "stderr",
     "output_type": "stream",
     "text": [
      "C:\\ProgramData\\Anaconda3\\lib\\site-packages\\sklearn\\model_selection\\_split.py:605: Warning: The least populated class in y has only 1 members, which is too few. The minimum number of members in any class cannot be less than n_splits=10.\n",
      "  % (min_groups, self.n_splits)), Warning)\n"
     ]
    },
    {
     "name": "stdout",
     "output_type": "stream",
     "text": [
      "-10.027958610878866 0.2985159430206471\n"
     ]
    }
   ],
   "source": [
    "vanilla_scores = cross_val_score(svc, x_train, y_train, cv=10, n_jobs=-1,scoring='mean_squared_error')\n",
    "    \n",
    "print(vanilla_scores.mean(), vanilla_scores.std())\n",
    "\n",
    "bagging_clf = BaggingClassifier(svc, max_samples=0.4,  random_state=seed)\n",
    "\n",
    "bagging_scores = cross_val_score(bagging_clf, x_test, y_test, cv=10, n_jobs=-1,scoring='mean_squared_error')\n",
    "\n",
    "print(bagging_scores.mean(), bagging_scores.std())\n",
    "#svc normal and bagging score"
   ]
  },
  {
   "cell_type": "code",
   "execution_count": 21,
   "metadata": {
    "scrolled": true
   },
   "outputs": [
    {
     "name": "stderr",
     "output_type": "stream",
     "text": [
      "C:\\ProgramData\\Anaconda3\\lib\\site-packages\\sklearn\\model_selection\\_split.py:605: Warning: The least populated class in y has only 3 members, which is too few. The minimum number of members in any class cannot be less than n_splits=10.\n",
      "  % (min_groups, self.n_splits)), Warning)\n"
     ]
    },
    {
     "name": "stdout",
     "output_type": "stream",
     "text": [
      "-8.393516422448203 0.17948975986397714\n"
     ]
    },
    {
     "name": "stderr",
     "output_type": "stream",
     "text": [
      "C:\\ProgramData\\Anaconda3\\lib\\site-packages\\sklearn\\model_selection\\_split.py:605: Warning: The least populated class in y has only 1 members, which is too few. The minimum number of members in any class cannot be less than n_splits=10.\n",
      "  % (min_groups, self.n_splits)), Warning)\n"
     ]
    },
    {
     "name": "stdout",
     "output_type": "stream",
     "text": [
      "-8.453534213443799 0.38238232893052143\n"
     ]
    }
   ],
   "source": [
    "vanilla_scores = cross_val_score(rg, x_train, y_train, cv=10, n_jobs=-1,scoring='mean_squared_error')\n",
    "    \n",
    "print(vanilla_scores.mean(), vanilla_scores.std())\n",
    "\n",
    "bagging_clf = BaggingClassifier(rg, max_samples=0.4,  random_state=seed)\n",
    "\n",
    "bagging_scores = cross_val_score(bagging_clf, x_test, y_test, cv=10, n_jobs=-1,scoring='mean_squared_error')\n",
    "\n",
    "print(bagging_scores.mean(), bagging_scores.std())\n",
    "#ridge normal and bagging score"
   ]
  },
  {
   "cell_type": "markdown",
   "metadata": {},
   "source": [
    "# 결론적으로 bagging이 여러 모델들에서 평가값이 더 좋은 것을 알 수 있다."
   ]
  }
 ],
 "metadata": {
  "kernelspec": {
   "display_name": "Python 3",
   "language": "python",
   "name": "python3"
  },
  "language_info": {
   "codemirror_mode": {
    "name": "ipython",
    "version": 3
   },
   "file_extension": ".py",
   "mimetype": "text/x-python",
   "name": "python",
   "nbconvert_exporter": "python",
   "pygments_lexer": "ipython3",
   "version": "3.7.0"
  }
 },
 "nbformat": 4,
 "nbformat_minor": 2
}

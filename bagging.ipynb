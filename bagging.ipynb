{
 "cells": [
  {
   "cell_type": "code",
   "execution_count": 19,
   "metadata": {},
   "outputs": [
    {
     "name": "stdout",
     "output_type": "stream",
     "text": [
      "(44527, 7)\n",
      "(44527, 1)\n",
      "   pago  longitude2  latitude2   pa_di   mean_air_p   mean_temp  max\n",
      "0   2.1         265        -28  215.85  102320.6567  293.405544  1.0\n",
      "1   2.1         265        -28  215.85  102320.6567  293.405544  1.0\n"
     ]
    }
   ],
   "source": [
    "import pandas as pd\n",
    "import numpy as np\n",
    "from sklearn import model_selection\n",
    "from sklearn import metrics\n",
    "import matplotlib.pyplot as plt\n",
    "#\n",
    "from sklearn.ensemble import BaggingRegressor\n",
    "\n",
    "x_data = pd.read_csv('C:/Users/korewa/Desktop/bagging_x.csv')\n",
    "y_data = pd.read_csv('C:/Users/korewa/Desktop/bagging_y.csv')\n",
    "print(x_data.shape) #(40, 1)\n",
    "print(y_data.shape) #(40,)\n",
    "print(x_data[:2])"
   ]
  },
  {
   "cell_type": "code",
   "execution_count": 20,
   "metadata": {
    "scrolled": true
   },
   "outputs": [
    {
     "name": "stdout",
     "output_type": "stream",
     "text": [
      "   pagojugi\n",
      "0        11\n",
      "1        12\n"
     ]
    }
   ],
   "source": [
    "\n",
    "print(y_data[:2]) #[-0.82075445  0.86401998]\n",
    "\n",
    "x_train, x_test, y_train, y_test = model_selection.train_test_split(x_data, y_data, test_size=0.33)"
   ]
  },
  {
   "cell_type": "code",
   "execution_count": 21,
   "metadata": {},
   "outputs": [],
   "source": [
    "#estimator = BaggingRegressor()\n",
    "estimator = BaggingRegressor(base_estimator=None, n_estimators=10,\n",
    "                             max_samples=1.0, max_features=1.0, bootstrap=True, bootstrap_features=False, \n",
    "                             oob_score=False, warm_start=False, n_jobs=1, random_state=None, verbose=0)\n",
    "\n",
    "\n"
   ]
  },
  {
   "cell_type": "code",
   "execution_count": 22,
   "metadata": {},
   "outputs": [
    {
     "name": "stderr",
     "output_type": "stream",
     "text": [
      "C:\\Users\\korewa\\Anaconda3\\lib\\site-packages\\sklearn\\utils\\validation.py:578: DataConversionWarning: A column-vector y was passed when a 1d array was expected. Please change the shape of y to (n_samples, ), for example using ravel().\n",
      "  y = column_or_1d(y, warn=True)\n"
     ]
    },
    {
     "data": {
      "text/plain": [
       "BaggingRegressor(base_estimator=None, bootstrap=True,\n",
       "         bootstrap_features=False, max_features=1.0, max_samples=1.0,\n",
       "         n_estimators=10, n_jobs=1, oob_score=False, random_state=None,\n",
       "         verbose=0, warm_start=False)"
      ]
     },
     "execution_count": 22,
     "metadata": {},
     "output_type": "execute_result"
    }
   ],
   "source": [
    "estimator.fit(x_train, y_train)"
   ]
  },
  {
   "cell_type": "code",
   "execution_count": 23,
   "metadata": {},
   "outputs": [
    {
     "name": "stdout",
     "output_type": "stream",
     "text": [
      "0.23574209715972128\n",
      "        pago  longitude2  latitude2   pa_di   mean_air_p   mean_temp   max\n",
      "6432   2.275          15         69  244.25  100706.8833  280.894431  12.6\n",
      "40844  0.900           0         54  173.40  101986.1689  284.894431   9.1\n",
      "[9.8        5.66857143]\n",
      "pagojugi 9.8\n"
     ]
    }
   ],
   "source": [
    "y_predict = estimator.predict(x_test)\n",
    "score = metrics.r2_score(y_test, y_predict)\n",
    "print(score)\n",
    "\n",
    "####################\n",
    "\n",
    "print(x_test[:2])\n",
    "\n",
    "y_predict = estimator.predict(x_test[:2])\n",
    "print(y_predict) #[-0.62043504  0.42784774]\n",
    "for y1, y2 in zip(y_test, y_predict):\n",
    "    print(y1, y2)    "
   ]
  },
  {
   "cell_type": "code",
   "execution_count": 71,
   "metadata": {},
   "outputs": [
    {
     "name": "stdout",
     "output_type": "stream",
     "text": [
      "0.0030624744793793387\n"
     ]
    }
   ],
   "source": [
    "print(score)"
   ]
  },
  {
   "cell_type": "code",
   "execution_count": 24,
   "metadata": {
    "scrolled": true
   },
   "outputs": [
    {
     "name": "stdout",
     "output_type": "stream",
     "text": [
      "(44527, 7)\n",
      "(44527, 1)\n",
      "   pago  longitude2  latitude2   pa_di   mean_air_p   mean_temp  max\n",
      "0   2.1         265        -28  215.85  102320.6567  293.405544  1.0\n",
      "1   2.1         265        -28  215.85  102320.6567  293.405544  1.0\n",
      "   pagojugi\n",
      "0        11\n",
      "1        12\n"
     ]
    },
    {
     "name": "stderr",
     "output_type": "stream",
     "text": [
      "C:\\Users\\korewa\\Anaconda3\\lib\\site-packages\\sklearn\\utils\\validation.py:578: DataConversionWarning: A column-vector y was passed when a 1d array was expected. Please change the shape of y to (n_samples, ), for example using ravel().\n",
      "  y = column_or_1d(y, warn=True)\n"
     ]
    },
    {
     "name": "stdout",
     "output_type": "stream",
     "text": [
      "0.0030624744793793387\n",
      "        pago  longitude2  latitude2   pa_di   mean_air_p   mean_temp  max\n",
      "16625  2.350          25        -36  233.55  101631.6933  293.194426  3.7\n",
      "22633  0.925         160        -10  163.05  100895.9000  303.083317  5.7\n",
      "[11  6]\n",
      "pagojugi 11 False\n"
     ]
    }
   ],
   "source": [
    "import pandas as pd\n",
    "import numpy as np\n",
    "from sklearn import model_selection\n",
    "from sklearn import metrics\n",
    "import matplotlib.pyplot as plt\n",
    "#\n",
    "from sklearn.ensemble import BaggingClassifier \n",
    "\n",
    "x_data = pd.read_csv('C:/Users/korewa/Desktop/bagging_x.csv')\n",
    "y_data = pd.read_csv('C:/Users/korewa/Desktop/bagging_y.csv')\n",
    "print(x_data.shape) #(40, 1)\n",
    "print(y_data.shape) #(40,)\n",
    "print(x_data[:2])\n",
    "'''\n",
    "[[2.45265086]\n",
    "[2.09839213]]\n",
    "'''\n",
    "print(y_data[:2]) #[-0.82075445  0.86401998]\n",
    "\n",
    "x_train, x_test, y_train, y_test = model_selection.train_test_split(x_data, y_data, test_size=0.33)\n",
    "\n",
    "#estimator = BaggingClassifier()\n",
    "estimator = BaggingClassifier(base_estimator=None, n_estimators=10, max_samples=1.0, max_features=1.0, bootstrap=True, bootstrap_features=False, oob_score=False, warm_start=False, n_jobs=1, random_state=None, verbose=0)\n",
    "\n",
    "estimator.fit(x_train, y_train)\n",
    "\n",
    "y_predict = estimator.predict(x_test)\n",
    "score = metrics.accuracy_score(y_test, y_predict)\n",
    "print(score)\n",
    "\n",
    "####################\n",
    "\n",
    "print(x_test[:2])\n",
    "'''\n",
    "[[ 1.08412616]\n",
    " [-0.50335834]]\n",
    "'''\n",
    "y_predict = estimator.predict(x_test[:2])\n",
    "print(y_predict) #[-0.62043504  0.42784774]\n",
    "for y1, y2 in zip(y_test, y_predict):\n",
    "    print(y1, y2, y1==y2)    "
   ]
  },
  {
   "cell_type": "code",
   "execution_count": 50,
   "metadata": {},
   "outputs": [
    {
     "data": {
      "text/plain": [
       "RandomForestClassifier(bootstrap=True, class_weight=None, criterion='gini',\n",
       "            max_depth=None, max_features='auto', max_leaf_nodes=None,\n",
       "            min_impurity_decrease=0.0, min_impurity_split=None,\n",
       "            min_samples_leaf=1, min_samples_split=2,\n",
       "            min_weight_fraction_leaf=0.0, n_estimators=10, n_jobs=1,\n",
       "            oob_score=False, random_state=None, verbose=0,\n",
       "            warm_start=False)"
      ]
     },
     "execution_count": 50,
     "metadata": {},
     "output_type": "execute_result"
    }
   ],
   "source": [
    "from sklearn.model_selection import cross_val_score\n",
    "from sklearn.ensemble import BaggingClassifier, ExtraTreesClassifier, RandomForestClassifier\n",
    "from sklearn.neighbors import KNeighborsClassifier\n",
    "from sklearn.linear_model import RidgeClassifier\n",
    "from sklearn.svm import SVC\n",
    "seed = 1075\n",
    "np.random.seed(seed)\n",
    "# Create classifiers\n",
    "rf = RandomForestClassifier()\n",
    "et = ExtraTreesClassifier()\n",
    "knn = KNeighborsClassifier()\n",
    "svc = SVC()\n",
    "rg = RidgeClassifier()\n",
    "clf_array = [rf, et, knn, svc, rg]\n",
    "\n",
    "clf"
   ]
  },
  {
   "cell_type": "code",
   "execution_count": 72,
   "metadata": {
    "scrolled": false
   },
   "outputs": [
    {
     "name": "stderr",
     "output_type": "stream",
     "text": [
      "C:\\Users\\korewa\\Anaconda3\\lib\\site-packages\\sklearn\\model_selection\\_split.py:605: Warning: The least populated class in y has only 2 members, which is too few. The minimum number of members in any class cannot be less than n_splits=10.\n",
      "  % (min_groups, self.n_splits)), Warning)\n"
     ]
    },
    {
     "name": "stdout",
     "output_type": "stream",
     "text": [
      "0.00492762428732205 0.0017625088046253764\n"
     ]
    }
   ],
   "source": [
    "vanilla_scores = cross_val_score(rf, x_train, y_train, cv=10, n_jobs=-1)\n",
    "    \n",
    "print(vanilla_scores.mean(), vanilla_scores.std())\n",
    "#random forest normal score"
   ]
  },
  {
   "cell_type": "code",
   "execution_count": 73,
   "metadata": {},
   "outputs": [
    {
     "name": "stderr",
     "output_type": "stream",
     "text": [
      "C:\\Users\\korewa\\Anaconda3\\lib\\site-packages\\sklearn\\model_selection\\_split.py:605: Warning: The least populated class in y has only 2 members, which is too few. The minimum number of members in any class cannot be less than n_splits=10.\n",
      "  % (min_groups, self.n_splits)), Warning)\n"
     ]
    },
    {
     "name": "stdout",
     "output_type": "stream",
     "text": [
      "0.009487822857648398 0.0019510495549279222\n"
     ]
    }
   ],
   "source": [
    "bagging_clf = BaggingClassifier(rf, max_samples=0.4,  random_state=seed)\n",
    "\n",
    "bagging_scores = cross_val_score(bagging_clf, x_train, y_train, cv=10, n_jobs=-1)\n",
    "\n",
    "print(bagging_scores.mean(), bagging_scores.std())\n",
    "#random forest bagging score"
   ]
  },
  {
   "cell_type": "code",
   "execution_count": 67,
   "metadata": {},
   "outputs": [
    {
     "name": "stderr",
     "output_type": "stream",
     "text": [
      "C:\\Users\\korewa\\Anaconda3\\lib\\site-packages\\sklearn\\model_selection\\_split.py:605: Warning: The least populated class in y has only 2 members, which is too few. The minimum number of members in any class cannot be less than n_splits=10.\n",
      "  % (min_groups, self.n_splits)), Warning)\n"
     ]
    },
    {
     "name": "stdout",
     "output_type": "stream",
     "text": [
      "0.027360013645789945 0.004645698995015785\n"
     ]
    },
    {
     "name": "stderr",
     "output_type": "stream",
     "text": [
      "C:\\Users\\korewa\\Anaconda3\\lib\\site-packages\\sklearn\\model_selection\\_split.py:605: Warning: The least populated class in y has only 2 members, which is too few. The minimum number of members in any class cannot be less than n_splits=10.\n",
      "  % (min_groups, self.n_splits)), Warning)\n"
     ]
    },
    {
     "name": "stdout",
     "output_type": "stream",
     "text": [
      "0.03280555688124512 0.005483431820358289\n"
     ]
    }
   ],
   "source": [
    "vanilla_scores = cross_val_score(et, x_train, y_train, cv=10, n_jobs=-1)\n",
    "    \n",
    "print(vanilla_scores.mean(), vanilla_scores.std())\n",
    "\n",
    "bagging_clf = BaggingClassifier(et, max_samples=0.4,  random_state=seed)\n",
    "\n",
    "bagging_scores = cross_val_score(bagging_clf, x_test, y_test, cv=10, n_jobs=-1)\n",
    "\n",
    "print(bagging_scores.mean(), bagging_scores.std())\n",
    "#extra classfier normal and bagging score"
   ]
  },
  {
   "cell_type": "code",
   "execution_count": 68,
   "metadata": {},
   "outputs": [
    {
     "name": "stderr",
     "output_type": "stream",
     "text": [
      "C:\\Users\\korewa\\Anaconda3\\lib\\site-packages\\sklearn\\model_selection\\_split.py:605: Warning: The least populated class in y has only 2 members, which is too few. The minimum number of members in any class cannot be less than n_splits=10.\n",
      "  % (min_groups, self.n_splits)), Warning)\n"
     ]
    },
    {
     "name": "stdout",
     "output_type": "stream",
     "text": [
      "0.060977144452256674 0.004036926577678504\n"
     ]
    },
    {
     "name": "stderr",
     "output_type": "stream",
     "text": [
      "C:\\Users\\korewa\\Anaconda3\\lib\\site-packages\\sklearn\\model_selection\\_split.py:605: Warning: The least populated class in y has only 2 members, which is too few. The minimum number of members in any class cannot be less than n_splits=10.\n",
      "  % (min_groups, self.n_splits)), Warning)\n"
     ]
    },
    {
     "name": "stdout",
     "output_type": "stream",
     "text": [
      "0.09089780064653497 0.007198545825706862\n"
     ]
    }
   ],
   "source": [
    "vanilla_scores = cross_val_score(knn, x_train, y_train, cv=10, n_jobs=-1)\n",
    "    \n",
    "print(vanilla_scores.mean(), vanilla_scores.std())\n",
    "\n",
    "bagging_clf = BaggingClassifier(knn, max_samples=0.4,  random_state=seed)\n",
    "\n",
    "bagging_scores = cross_val_score(bagging_clf, x_test, y_test, cv=10, n_jobs=-1)\n",
    "\n",
    "print(bagging_scores.mean(), bagging_scores.std())\n",
    "#knn normal and bagging score"
   ]
  },
  {
   "cell_type": "code",
   "execution_count": 74,
   "metadata": {},
   "outputs": [
    {
     "name": "stderr",
     "output_type": "stream",
     "text": [
      "C:\\Users\\korewa\\Anaconda3\\lib\\site-packages\\sklearn\\model_selection\\_split.py:605: Warning: The least populated class in y has only 2 members, which is too few. The minimum number of members in any class cannot be less than n_splits=10.\n",
      "  % (min_groups, self.n_splits)), Warning)\n"
     ]
    },
    {
     "name": "stdout",
     "output_type": "stream",
     "text": [
      "0.003419912604017241 0.0007182129397900485\n"
     ]
    },
    {
     "name": "stderr",
     "output_type": "stream",
     "text": [
      "C:\\Users\\korewa\\Anaconda3\\lib\\site-packages\\sklearn\\model_selection\\_split.py:605: Warning: The least populated class in y has only 2 members, which is too few. The minimum number of members in any class cannot be less than n_splits=10.\n",
      "  % (min_groups, self.n_splits)), Warning)\n"
     ]
    },
    {
     "name": "stdout",
     "output_type": "stream",
     "text": [
      "0.07062958789830415 0.013325118121536753\n"
     ]
    }
   ],
   "source": [
    "vanilla_scores = cross_val_score(svc, x_train, y_train, cv=10, n_jobs=-1)\n",
    "    \n",
    "print(vanilla_scores.mean(), vanilla_scores.std())\n",
    "\n",
    "bagging_clf = BaggingClassifier(svc, max_samples=0.4,  random_state=seed)\n",
    "\n",
    "bagging_scores = cross_val_score(bagging_clf, x_test, y_test, cv=10, n_jobs=-1)\n",
    "\n",
    "print(bagging_scores.mean(), bagging_scores.std())\n",
    "#svc normal and bagging score"
   ]
  },
  {
   "cell_type": "code",
   "execution_count": 75,
   "metadata": {
    "scrolled": true
   },
   "outputs": [
    {
     "name": "stderr",
     "output_type": "stream",
     "text": [
      "C:\\Users\\korewa\\Anaconda3\\lib\\site-packages\\sklearn\\model_selection\\_split.py:605: Warning: The least populated class in y has only 2 members, which is too few. The minimum number of members in any class cannot be less than n_splits=10.\n",
      "  % (min_groups, self.n_splits)), Warning)\n"
     ]
    },
    {
     "name": "stdout",
     "output_type": "stream",
     "text": [
      "0.13877983990931558 0.006668060218099403\n"
     ]
    },
    {
     "name": "stderr",
     "output_type": "stream",
     "text": [
      "C:\\Users\\korewa\\Anaconda3\\lib\\site-packages\\sklearn\\model_selection\\_split.py:605: Warning: The least populated class in y has only 2 members, which is too few. The minimum number of members in any class cannot be less than n_splits=10.\n",
      "  % (min_groups, self.n_splits)), Warning)\n"
     ]
    },
    {
     "name": "stdout",
     "output_type": "stream",
     "text": [
      "0.13930360619718113 0.010999618782112404\n"
     ]
    }
   ],
   "source": [
    "vanilla_scores = cross_val_score(rg, x_train, y_train, cv=10, n_jobs=-1)\n",
    "    \n",
    "print(vanilla_scores.mean(), vanilla_scores.std())\n",
    "\n",
    "bagging_clf = BaggingClassifier(rg, max_samples=0.4,  random_state=seed)\n",
    "\n",
    "bagging_scores = cross_val_score(bagging_clf, x_test, y_test, cv=10, n_jobs=-1)\n",
    "\n",
    "print(bagging_scores.mean(), bagging_scores.std())\n",
    "#ridge normal and bagging score"
   ]
  },
  {
   "cell_type": "markdown",
   "metadata": {},
   "source": [
    "# 결론적으로 bagging이 여러 모델들에서 평가값이 더 좋은 것을 알 수 있다."
   ]
  }
 ],
 "metadata": {
  "kernelspec": {
   "display_name": "Python 3",
   "language": "python",
   "name": "python3"
  },
  "language_info": {
   "codemirror_mode": {
    "name": "ipython",
    "version": 3
   },
   "file_extension": ".py",
   "mimetype": "text/x-python",
   "name": "python",
   "nbconvert_exporter": "python",
   "pygments_lexer": "ipython3",
   "version": "3.6.5"
  }
 },
 "nbformat": 4,
 "nbformat_minor": 2
}
